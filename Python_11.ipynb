{
  "nbformat": 4,
  "nbformat_minor": 0,
  "metadata": {
    "colab": {
      "provenance": []
    },
    "kernelspec": {
      "name": "python3",
      "display_name": "Python 3"
    },
    "language_info": {
      "name": "python"
    }
  },
  "cells": [
    {
      "cell_type": "markdown",
      "source": [
        "#Summary:-\n",
        "\n",
        "##List\n",
        "##Access Element in List\n",
        "##Reverse List\n",
        "##List is Mutable\n",
        "##List Methods\n",
        "max(), ASCII value, min(), append(), pop(), sort(), reverse()"
      ],
      "metadata": {
        "id": "55sEazRkXItb"
      }
    },
    {
      "cell_type": "markdown",
      "source": [
        "##List:-\n",
        "###List is a Container, where you can store information\n",
        "###Its a collection of some items, it can be integer or float."
      ],
      "metadata": {
        "id": "QmfuiHdIXOQy"
      }
    },
    {
      "cell_type": "code",
      "execution_count": null,
      "metadata": {
        "colab": {
          "base_uri": "https://localhost:8080/"
        },
        "id": "Fk534OyBXHsW",
        "outputId": "b1518fc5-1c8c-4ccb-f62b-f2f8a5fa4138"
      },
      "outputs": [
        {
          "output_type": "execute_result",
          "data": {
            "text/plain": [
              "1"
            ]
          },
          "metadata": {},
          "execution_count": 1
        }
      ],
      "source": [
        "A = [1,2,3,4,5]\n",
        "A[0]"
      ]
    },
    {
      "cell_type": "code",
      "source": [
        "A = [1,2,3,4,5.6, \"Dipanjan\", 1+2j, True]   #List can contain any Data Type\n",
        "A[5]"
      ],
      "metadata": {
        "colab": {
          "base_uri": "https://localhost:8080/",
          "height": 35
        },
        "id": "Nmc9SKFWYL8z",
        "outputId": "01043807-35f6-4470-a87b-a10298b08682"
      },
      "execution_count": null,
      "outputs": [
        {
          "output_type": "execute_result",
          "data": {
            "text/plain": [
              "'Dipanjan'"
            ],
            "application/vnd.google.colaboratory.intrinsic+json": {
              "type": "string"
            }
          },
          "metadata": {},
          "execution_count": 3
        }
      ]
    },
    {
      "cell_type": "code",
      "source": [
        "A = [1,2,3,4,5.6, \"Dipanjan\", 1+2j, True] \n",
        "\n",
        "for element in A:\n",
        "  print(element)"
      ],
      "metadata": {
        "colab": {
          "base_uri": "https://localhost:8080/"
        },
        "id": "0orcgI9RYoyJ",
        "outputId": "80769b21-147f-4b5b-b727-d3fd9515e274"
      },
      "execution_count": null,
      "outputs": [
        {
          "output_type": "stream",
          "name": "stdout",
          "text": [
            "1\n",
            "2\n",
            "3\n",
            "4\n",
            "5.6\n",
            "Dipanjan\n",
            "(1+2j)\n",
            "True\n"
          ]
        }
      ]
    },
    {
      "cell_type": "markdown",
      "source": [
        "###Access Element in this way also"
      ],
      "metadata": {
        "id": "k4lFe2EIcKZK"
      }
    },
    {
      "cell_type": "code",
      "source": [
        "A = [1,2,3,4,5.6, \"Dipanjan\", 1+2j, True] \n",
        "\n",
        "for i in range(len(A)):\n",
        "  print(A[i])"
      ],
      "metadata": {
        "colab": {
          "base_uri": "https://localhost:8080/"
        },
        "id": "BcxyrqWmazzz",
        "outputId": "93af7b3f-04eb-4395-f8a1-f69614f40e6f"
      },
      "execution_count": null,
      "outputs": [
        {
          "output_type": "stream",
          "name": "stdout",
          "text": [
            "1\n",
            "2\n",
            "3\n",
            "4\n",
            "5.6\n",
            "Dipanjan\n",
            "(1+2j)\n",
            "True\n"
          ]
        }
      ]
    },
    {
      "cell_type": "markdown",
      "source": [
        "###Access Elements in List"
      ],
      "metadata": {
        "id": "DycfHotAc5CR"
      }
    },
    {
      "cell_type": "code",
      "source": [
        "A = [1,2,3,4,5.6, \"Dipanjan\", 1+2j, True] \n",
        "\n",
        "A[3: ]  #Starting from 3rd index to Last index"
      ],
      "metadata": {
        "colab": {
          "base_uri": "https://localhost:8080/"
        },
        "id": "ZwZe7rz-cIZ5",
        "outputId": "81e61959-7384-42c1-f89a-c9cb2cf5b701"
      },
      "execution_count": null,
      "outputs": [
        {
          "output_type": "execute_result",
          "data": {
            "text/plain": [
              "[4, 5.6, 'Dipanjan', (1+2j), True]"
            ]
          },
          "metadata": {},
          "execution_count": 6
        }
      ]
    },
    {
      "cell_type": "code",
      "source": [
        "A = [1,2,3,4,5.6, \"Dipanjan\", 1+2j, True] \n",
        "\n",
        "A[0::2]  #Jumping 2 Steps and taking these Jump as an Output"
      ],
      "metadata": {
        "colab": {
          "base_uri": "https://localhost:8080/"
        },
        "id": "rGDZFNr5dDBi",
        "outputId": "73049f30-1739-4f9e-d04f-1534ea1c1d4c"
      },
      "execution_count": null,
      "outputs": [
        {
          "output_type": "execute_result",
          "data": {
            "text/plain": [
              "[1, 3, 5.6, (1+2j)]"
            ]
          },
          "metadata": {},
          "execution_count": 7
        }
      ]
    },
    {
      "cell_type": "code",
      "source": [
        "A = [1,2,3,4,5.6, \"Dipanjan\", 1+2j, True] \n",
        "\n",
        "for i in range(0, 8, 2):\n",
        "  print(i, A[i])"
      ],
      "metadata": {
        "colab": {
          "base_uri": "https://localhost:8080/"
        },
        "id": "0Q0h_gy_de6B",
        "outputId": "f56afb51-a5f6-4649-d125-5ad2edcb715a"
      },
      "execution_count": null,
      "outputs": [
        {
          "output_type": "stream",
          "name": "stdout",
          "text": [
            "0 1\n",
            "2 3\n",
            "4 5.6\n",
            "6 (1+2j)\n"
          ]
        }
      ]
    },
    {
      "cell_type": "markdown",
      "source": [
        "###Reverse List"
      ],
      "metadata": {
        "id": "0DyNax12fBiT"
      }
    },
    {
      "cell_type": "code",
      "source": [
        "A = [1,2,3,4,5.6, \"Dipanjan\", 1+2j, True] \n",
        "\n",
        "A[ : : -1]"
      ],
      "metadata": {
        "colab": {
          "base_uri": "https://localhost:8080/"
        },
        "id": "6d_wj7BseH_Z",
        "outputId": "62ec76a4-bfa7-433f-d80e-eaa00d94f7a4"
      },
      "execution_count": null,
      "outputs": [
        {
          "output_type": "execute_result",
          "data": {
            "text/plain": [
              "[True, (1+2j), 'Dipanjan', 5.6, 4, 3, 2, 1]"
            ]
          },
          "metadata": {},
          "execution_count": 12
        }
      ]
    },
    {
      "cell_type": "code",
      "source": [
        "for i in range(0, 10, 2):\n",
        "  print(i)"
      ],
      "metadata": {
        "colab": {
          "base_uri": "https://localhost:8080/"
        },
        "id": "kS6_iYC6fLVh",
        "outputId": "f1afaa51-706d-4bd3-cd0c-25615597c93e"
      },
      "execution_count": null,
      "outputs": [
        {
          "output_type": "stream",
          "name": "stdout",
          "text": [
            "0\n",
            "2\n",
            "4\n",
            "6\n",
            "8\n"
          ]
        }
      ]
    },
    {
      "cell_type": "code",
      "source": [
        "A = [1,2,3,4,5.6, \"Dipanjan\", 1+2j, True] \n",
        "for i in range(0, len(A), 2):\n",
        "  print(i, A[i])"
      ],
      "metadata": {
        "colab": {
          "base_uri": "https://localhost:8080/"
        },
        "id": "gDh8S5CogCuZ",
        "outputId": "26e414f8-f388-465c-a994-084313b91c49"
      },
      "execution_count": null,
      "outputs": [
        {
          "output_type": "stream",
          "name": "stdout",
          "text": [
            "0 1\n",
            "2 3\n",
            "4 5.6\n",
            "6 (1+2j)\n"
          ]
        }
      ]
    },
    {
      "cell_type": "markdown",
      "source": [
        "###If there will be No Steps:-"
      ],
      "metadata": {
        "id": "1uNB0_p8goTJ"
      }
    },
    {
      "cell_type": "code",
      "source": [
        "A = [1,2,3,4,5.6, \"Dipanjan\", 1+2j, True] \n",
        "for i in range(0, len(A)):\n",
        "  print(i, A[i])"
      ],
      "metadata": {
        "colab": {
          "base_uri": "https://localhost:8080/"
        },
        "id": "XJ9q6neNgY7C",
        "outputId": "3d07825f-62e3-4e58-95f4-efca2264a5bf"
      },
      "execution_count": null,
      "outputs": [
        {
          "output_type": "stream",
          "name": "stdout",
          "text": [
            "0 1\n",
            "1 2\n",
            "2 3\n",
            "3 4\n",
            "4 5.6\n",
            "5 Dipanjan\n",
            "6 (1+2j)\n",
            "7 True\n"
          ]
        }
      ]
    },
    {
      "cell_type": "code",
      "source": [
        "A = [1,2,3,4,5.6, \"Dipanjan\", 1+2j, True] \n",
        "\n",
        "A[1::2]"
      ],
      "metadata": {
        "colab": {
          "base_uri": "https://localhost:8080/"
        },
        "id": "MGTOTAKMgvGB",
        "outputId": "4daa10af-4062-4470-e740-5348bc49afa9"
      },
      "execution_count": null,
      "outputs": [
        {
          "output_type": "execute_result",
          "data": {
            "text/plain": [
              "[2, 4, 'Dipanjan', True]"
            ]
          },
          "metadata": {},
          "execution_count": 16
        }
      ]
    },
    {
      "cell_type": "markdown",
      "source": [
        "#List is Mutable:-\n",
        "###Update or Replace any index in List:-\n",
        "###In List - Replace is Possible\n",
        "###Mutable operation is allowed in List (Changing is allowed in List)\n",
        "\n",
        "###[Where ==> String is immutable. (means which is not Changable)]\n",
        "\n"
      ],
      "metadata": {
        "id": "E8BoRhCdicIZ"
      }
    },
    {
      "cell_type": "code",
      "source": [
        "A = [1,2,3,4,5.6, \"Dipanjan\", 1+2j, True] \n",
        "\n",
        "A[4] = 369  #Replace any index in List\n",
        "\n",
        "A"
      ],
      "metadata": {
        "colab": {
          "base_uri": "https://localhost:8080/"
        },
        "id": "b6Zibxd6h_PR",
        "outputId": "4ef2a889-a000-4db8-d48e-b32162b24566"
      },
      "execution_count": null,
      "outputs": [
        {
          "output_type": "execute_result",
          "data": {
            "text/plain": [
              "[1, 2, 3, 4, 369, 'Dipanjan', (1+2j), True]"
            ]
          },
          "metadata": {},
          "execution_count": 17
        }
      ]
    },
    {
      "cell_type": "code",
      "source": [
        "A = [1,2,3,4,5.6, \"Dipanjan\", 1+2j, True] \n",
        "\n",
        "A[-2] = \"iNeuron\"\n",
        "\n",
        "A"
      ],
      "metadata": {
        "colab": {
          "base_uri": "https://localhost:8080/"
        },
        "id": "KVYFybSMjDGY",
        "outputId": "ad603fa7-84f7-4a0b-bf39-9d1e6551beb5"
      },
      "execution_count": null,
      "outputs": [
        {
          "output_type": "execute_result",
          "data": {
            "text/plain": [
              "[1, 2, 3, 4, 5.6, 'Dipanjan', 'iNeuron', True]"
            ]
          },
          "metadata": {},
          "execution_count": 18
        }
      ]
    },
    {
      "cell_type": "code",
      "source": [
        "A = [1,2,3,4,5.6, \"Dipanjan\", 1+2j, True] \n",
        "\n",
        "B = [70, 90.22]\n",
        "\n",
        "A + B   #It extend the List"
      ],
      "metadata": {
        "colab": {
          "base_uri": "https://localhost:8080/"
        },
        "id": "xqz98I6Tkxnx",
        "outputId": "e19db94b-dee9-4a8c-c36e-e149470e91a0"
      },
      "execution_count": null,
      "outputs": [
        {
          "output_type": "execute_result",
          "data": {
            "text/plain": [
              "[1, 2, 3, 4, 5.6, 'Dipanjan', (1+2j), True, 70, 90.22]"
            ]
          },
          "metadata": {},
          "execution_count": 19
        }
      ]
    },
    {
      "cell_type": "code",
      "source": [
        "A = [1,2,3,4,5.6, \"Dipanjan\", 1+2j, True] \n",
        "\n",
        "B = [70, 90.22]\n",
        "\n",
        "A - B   #Not Support"
      ],
      "metadata": {
        "colab": {
          "base_uri": "https://localhost:8080/",
          "height": 201
        },
        "id": "4l0cd54mlJJC",
        "outputId": "f7a8b7bc-0809-4d20-f0ab-34817b6299e5"
      },
      "execution_count": null,
      "outputs": [
        {
          "output_type": "error",
          "ename": "TypeError",
          "evalue": "ignored",
          "traceback": [
            "\u001b[0;31m---------------------------------------------------------------------------\u001b[0m",
            "\u001b[0;31mTypeError\u001b[0m                                 Traceback (most recent call last)",
            "\u001b[0;32m<ipython-input-20-1abf702804f1>\u001b[0m in \u001b[0;36m<module>\u001b[0;34m\u001b[0m\n\u001b[1;32m      3\u001b[0m \u001b[0mB\u001b[0m \u001b[0;34m=\u001b[0m \u001b[0;34m[\u001b[0m\u001b[0;36m70\u001b[0m\u001b[0;34m,\u001b[0m \u001b[0;36m90.22\u001b[0m\u001b[0;34m]\u001b[0m\u001b[0;34m\u001b[0m\u001b[0;34m\u001b[0m\u001b[0m\n\u001b[1;32m      4\u001b[0m \u001b[0;34m\u001b[0m\u001b[0m\n\u001b[0;32m----> 5\u001b[0;31m \u001b[0mA\u001b[0m \u001b[0;34m-\u001b[0m \u001b[0mB\u001b[0m\u001b[0;34m\u001b[0m\u001b[0;34m\u001b[0m\u001b[0m\n\u001b[0m",
            "\u001b[0;31mTypeError\u001b[0m: unsupported operand type(s) for -: 'list' and 'list'"
          ]
        }
      ]
    },
    {
      "cell_type": "code",
      "source": [
        "A = [1,2,3,4,5.6, \"Dipanjan\", 1+2j, True] \n",
        "\n",
        "A * 2   #Repeat twise"
      ],
      "metadata": {
        "colab": {
          "base_uri": "https://localhost:8080/"
        },
        "id": "HeWQKDzClw9B",
        "outputId": "12e62ebe-a1bd-4c25-bba7-c113914f5550"
      },
      "execution_count": null,
      "outputs": [
        {
          "output_type": "execute_result",
          "data": {
            "text/plain": [
              "[1,\n",
              " 2,\n",
              " 3,\n",
              " 4,\n",
              " 5.6,\n",
              " 'Dipanjan',\n",
              " (1+2j),\n",
              " True,\n",
              " 1,\n",
              " 2,\n",
              " 3,\n",
              " 4,\n",
              " 5.6,\n",
              " 'Dipanjan',\n",
              " (1+2j),\n",
              " True]"
            ]
          },
          "metadata": {},
          "execution_count": 21
        }
      ]
    },
    {
      "cell_type": "code",
      "source": [
        "A = [1,2,3,4,5.6, \"Dipanjan\", 1+2j, True] \n",
        "\n",
        "A/2   #Not Supported"
      ],
      "metadata": {
        "colab": {
          "base_uri": "https://localhost:8080/",
          "height": 201
        },
        "id": "vRIu1kqImChx",
        "outputId": "6abc638b-ce34-4766-ca2a-b596477333a4"
      },
      "execution_count": null,
      "outputs": [
        {
          "output_type": "error",
          "ename": "TypeError",
          "evalue": "ignored",
          "traceback": [
            "\u001b[0;31m---------------------------------------------------------------------------\u001b[0m",
            "\u001b[0;31mTypeError\u001b[0m                                 Traceback (most recent call last)",
            "\u001b[0;32m<ipython-input-22-f3b75c932123>\u001b[0m in \u001b[0;36m<module>\u001b[0;34m\u001b[0m\n\u001b[1;32m      1\u001b[0m \u001b[0mA\u001b[0m \u001b[0;34m=\u001b[0m \u001b[0;34m[\u001b[0m\u001b[0;36m1\u001b[0m\u001b[0;34m,\u001b[0m\u001b[0;36m2\u001b[0m\u001b[0;34m,\u001b[0m\u001b[0;36m3\u001b[0m\u001b[0;34m,\u001b[0m\u001b[0;36m4\u001b[0m\u001b[0;34m,\u001b[0m\u001b[0;36m5.6\u001b[0m\u001b[0;34m,\u001b[0m \u001b[0;34m\"Dipanjan\"\u001b[0m\u001b[0;34m,\u001b[0m \u001b[0;36m1\u001b[0m\u001b[0;34m+\u001b[0m\u001b[0;36m2j\u001b[0m\u001b[0;34m,\u001b[0m \u001b[0;32mTrue\u001b[0m\u001b[0;34m]\u001b[0m\u001b[0;34m\u001b[0m\u001b[0;34m\u001b[0m\u001b[0m\n\u001b[1;32m      2\u001b[0m \u001b[0;34m\u001b[0m\u001b[0m\n\u001b[0;32m----> 3\u001b[0;31m \u001b[0mA\u001b[0m\u001b[0;34m/\u001b[0m\u001b[0;36m2\u001b[0m\u001b[0;34m\u001b[0m\u001b[0;34m\u001b[0m\u001b[0m\n\u001b[0m",
            "\u001b[0;31mTypeError\u001b[0m: unsupported operand type(s) for /: 'list' and 'int'"
          ]
        }
      ]
    },
    {
      "cell_type": "code",
      "source": [
        "A = [1,2,3,4,5.6, \"Dipanjan\", 1+2j, True] \n",
        "\n",
        "A + A"
      ],
      "metadata": {
        "colab": {
          "base_uri": "https://localhost:8080/"
        },
        "id": "yu0Wdl8umQWh",
        "outputId": "c153206f-fb17-4b0f-8d65-603393945e9b"
      },
      "execution_count": null,
      "outputs": [
        {
          "output_type": "execute_result",
          "data": {
            "text/plain": [
              "[1,\n",
              " 2,\n",
              " 3,\n",
              " 4,\n",
              " 5.6,\n",
              " 'Dipanjan',\n",
              " (1+2j),\n",
              " True,\n",
              " 1,\n",
              " 2,\n",
              " 3,\n",
              " 4,\n",
              " 5.6,\n",
              " 'Dipanjan',\n",
              " (1+2j),\n",
              " True]"
            ]
          },
          "metadata": {},
          "execution_count": 23
        }
      ]
    },
    {
      "cell_type": "markdown",
      "source": [
        "##List Methods:-"
      ],
      "metadata": {
        "id": "NNEjgNlxnMDw"
      }
    },
    {
      "cell_type": "code",
      "source": [
        "A = [1,2,3,4,5.6, \"Dipanjan\", 1+2j, True] \n",
        "\n",
        "len(A)"
      ],
      "metadata": {
        "colab": {
          "base_uri": "https://localhost:8080/"
        },
        "id": "99dba_-TmkxZ",
        "outputId": "851ebcf6-ea8e-4c19-e94f-790afe526ebf"
      },
      "execution_count": null,
      "outputs": [
        {
          "output_type": "execute_result",
          "data": {
            "text/plain": [
              "8"
            ]
          },
          "metadata": {},
          "execution_count": 24
        }
      ]
    },
    {
      "cell_type": "markdown",
      "source": [
        "###max()  => Find Maximum Value from given List"
      ],
      "metadata": {
        "id": "Jnj0zEIRveB4"
      }
    },
    {
      "cell_type": "code",
      "source": [
        "P = [1, 45, 212, 99]\n",
        "\n",
        "max(P)"
      ],
      "metadata": {
        "colab": {
          "base_uri": "https://localhost:8080/"
        },
        "id": "LKnNt3GLnarh",
        "outputId": "c73698cd-6bd4-4a2b-cd62-ea2f083177a6"
      },
      "execution_count": null,
      "outputs": [
        {
          "output_type": "execute_result",
          "data": {
            "text/plain": [
              "212"
            ]
          },
          "metadata": {},
          "execution_count": 25
        }
      ]
    },
    {
      "cell_type": "markdown",
      "source": [
        "##According  - ASCII value of A to Z\n",
        "\n",
        "http://sticksandstones.kstrom.com/appen.html"
      ],
      "metadata": {
        "id": "Q-5xFW1xwrtY"
      }
    },
    {
      "cell_type": "code",
      "source": [
        "S = [\"a\", \"b\", \"c\", \"d\", \"e\", \"f\", \"F\"]\n",
        "\n",
        "max(S)"
      ],
      "metadata": {
        "colab": {
          "base_uri": "https://localhost:8080/",
          "height": 35
        },
        "id": "jCdtnDikv3mA",
        "outputId": "28949efc-9ca8-4905-a75f-4ba323f64e0b"
      },
      "execution_count": null,
      "outputs": [
        {
          "output_type": "execute_result",
          "data": {
            "text/plain": [
              "'f'"
            ],
            "application/vnd.google.colaboratory.intrinsic+json": {
              "type": "string"
            }
          },
          "metadata": {},
          "execution_count": 28
        }
      ]
    },
    {
      "cell_type": "markdown",
      "source": [
        "###min() => Find Minimum Value from given List"
      ],
      "metadata": {
        "id": "pHUlvSi4jKhN"
      }
    },
    {
      "cell_type": "code",
      "source": [
        "B = [1, 45, 212, 99]\n",
        "\n",
        "min(B)"
      ],
      "metadata": {
        "id": "kwxWNhyKwMEI",
        "colab": {
          "base_uri": "https://localhost:8080/"
        },
        "outputId": "324650e8-8938-4529-9498-94b315deea38"
      },
      "execution_count": 2,
      "outputs": [
        {
          "output_type": "execute_result",
          "data": {
            "text/plain": [
              "1"
            ]
          },
          "metadata": {},
          "execution_count": 2
        }
      ]
    },
    {
      "cell_type": "markdown",
      "source": [
        "#List Methods:-\n",
        "##Append Method:- Add in End\n",
        "###append()"
      ],
      "metadata": {
        "id": "n1DxNQ2NkNTc"
      }
    },
    {
      "cell_type": "code",
      "source": [
        "A = [1,2,66]\n",
        "\n",
        "A.append(\"new_element\")\n",
        "\n",
        "A\n",
        "\n"
      ],
      "metadata": {
        "colab": {
          "base_uri": "https://localhost:8080/"
        },
        "id": "whmytjAKi1oG",
        "outputId": "1d6db5a8-60fe-4b14-fa85-05262183aa7a"
      },
      "execution_count": 8,
      "outputs": [
        {
          "output_type": "execute_result",
          "data": {
            "text/plain": [
              "[1, 2, 66, 'new_element']"
            ]
          },
          "metadata": {},
          "execution_count": 8
        }
      ]
    },
    {
      "cell_type": "code",
      "source": [
        "A = [1,2,66]\n",
        "\n",
        "A.append(\"new_element\", \"Mela\")  #append takes only one argument at a time\n",
        "\n",
        "A"
      ],
      "metadata": {
        "colab": {
          "base_uri": "https://localhost:8080/",
          "height": 236
        },
        "id": "Mq63jwi7ktrN",
        "outputId": "ba7e7255-6011-4f80-b3eb-51b8036fc7f3"
      },
      "execution_count": 9,
      "outputs": [
        {
          "output_type": "error",
          "ename": "TypeError",
          "evalue": "ignored",
          "traceback": [
            "\u001b[0;31m---------------------------------------------------------------------------\u001b[0m",
            "\u001b[0;31mTypeError\u001b[0m                                 Traceback (most recent call last)",
            "\u001b[0;32m<ipython-input-9-093f69178025>\u001b[0m in \u001b[0;36m<module>\u001b[0;34m\u001b[0m\n\u001b[1;32m      1\u001b[0m \u001b[0mA\u001b[0m \u001b[0;34m=\u001b[0m \u001b[0;34m[\u001b[0m\u001b[0;36m1\u001b[0m\u001b[0;34m,\u001b[0m\u001b[0;36m2\u001b[0m\u001b[0;34m,\u001b[0m\u001b[0;36m66\u001b[0m\u001b[0;34m]\u001b[0m\u001b[0;34m\u001b[0m\u001b[0;34m\u001b[0m\u001b[0m\n\u001b[1;32m      2\u001b[0m \u001b[0;34m\u001b[0m\u001b[0m\n\u001b[0;32m----> 3\u001b[0;31m \u001b[0mA\u001b[0m\u001b[0;34m.\u001b[0m\u001b[0mappend\u001b[0m\u001b[0;34m(\u001b[0m\u001b[0;34m\"new_element\"\u001b[0m\u001b[0;34m,\u001b[0m \u001b[0;34m\"Mela\"\u001b[0m\u001b[0;34m)\u001b[0m\u001b[0;34m\u001b[0m\u001b[0;34m\u001b[0m\u001b[0m\n\u001b[0m\u001b[1;32m      4\u001b[0m \u001b[0;34m\u001b[0m\u001b[0m\n\u001b[1;32m      5\u001b[0m \u001b[0mA\u001b[0m\u001b[0;34m\u001b[0m\u001b[0;34m\u001b[0m\u001b[0m\n",
            "\u001b[0;31mTypeError\u001b[0m: list.append() takes exactly one argument (2 given)"
          ]
        }
      ]
    },
    {
      "cell_type": "code",
      "source": [
        "A = [1,2,66]\n",
        "\n",
        "A.append([\"new_element\", \"Mela\"])  #append takes 2 arguments in a List\n",
        "\n",
        "A"
      ],
      "metadata": {
        "colab": {
          "base_uri": "https://localhost:8080/"
        },
        "id": "0UpQ-L9xmTjL",
        "outputId": "b0dae355-7c8d-4d20-d84f-ca7093717118"
      },
      "execution_count": 10,
      "outputs": [
        {
          "output_type": "execute_result",
          "data": {
            "text/plain": [
              "[1, 2, 66, ['new_element', 'Mela']]"
            ]
          },
          "metadata": {},
          "execution_count": 10
        }
      ]
    },
    {
      "cell_type": "markdown",
      "source": [
        "##pop() Method:- Remove End Element"
      ],
      "metadata": {
        "id": "82dW0zP8nPEE"
      }
    },
    {
      "cell_type": "code",
      "source": [
        "A = [6,4,5,7,\"Dipanjan\"]\n",
        "\n",
        "A.pop()\n",
        "\n",
        "A"
      ],
      "metadata": {
        "colab": {
          "base_uri": "https://localhost:8080/"
        },
        "id": "UZKn1sJZmksc",
        "outputId": "97eeefd8-cbf1-423e-a941-a76524f1d3f6"
      },
      "execution_count": 12,
      "outputs": [
        {
          "output_type": "execute_result",
          "data": {
            "text/plain": [
              "[6, 4, 5, 7]"
            ]
          },
          "metadata": {},
          "execution_count": 12
        }
      ]
    },
    {
      "cell_type": "markdown",
      "source": [
        "###Remove Specific index value"
      ],
      "metadata": {
        "id": "hFsYwJQun_qM"
      }
    },
    {
      "cell_type": "code",
      "source": [
        "A = [6,4,5,7,\"Dipanjan\"]\n",
        "\n",
        "A.pop(2)  #Removed 2nd index => 5\n",
        "\n",
        "A"
      ],
      "metadata": {
        "colab": {
          "base_uri": "https://localhost:8080/"
        },
        "id": "Mlww7yUtn1Ut",
        "outputId": "894fce71-5985-4923-d2b3-3a9256733368"
      },
      "execution_count": 13,
      "outputs": [
        {
          "output_type": "execute_result",
          "data": {
            "text/plain": [
              "[6, 4, 7, 'Dipanjan']"
            ]
          },
          "metadata": {},
          "execution_count": 13
        }
      ]
    },
    {
      "cell_type": "markdown",
      "source": [
        "###sort() Method:- Sort Orders => Accending Orders"
      ],
      "metadata": {
        "id": "bdqyRWqxqJoc"
      }
    },
    {
      "cell_type": "code",
      "source": [
        "A = [5,56,23,14,78,54]\n",
        "\n",
        "A.sort()  #Permanent Change. You don't have to assign in any value\n",
        "\n",
        "A"
      ],
      "metadata": {
        "colab": {
          "base_uri": "https://localhost:8080/"
        },
        "id": "GDrFHfQEoGys",
        "outputId": "bd0752fd-51ee-41e3-94a1-143062d1eaaf"
      },
      "execution_count": 20,
      "outputs": [
        {
          "output_type": "execute_result",
          "data": {
            "text/plain": [
              "[5, 14, 23, 54, 56, 78]"
            ]
          },
          "metadata": {},
          "execution_count": 20
        }
      ]
    },
    {
      "cell_type": "code",
      "source": [
        "A = [5,56,23,14,78,54]\n",
        "\n",
        "sorted(A)  #Same Output"
      ],
      "metadata": {
        "colab": {
          "base_uri": "https://localhost:8080/"
        },
        "id": "o9972pl7qk5M",
        "outputId": "21f396f7-3de6-481c-b5a3-c182a245f6f4"
      },
      "execution_count": 16,
      "outputs": [
        {
          "output_type": "execute_result",
          "data": {
            "text/plain": [
              "[5, 14, 23, 54, 56, 78]"
            ]
          },
          "metadata": {},
          "execution_count": 16
        }
      ]
    },
    {
      "cell_type": "markdown",
      "source": [
        "###For Reverse (Decending Order)"
      ],
      "metadata": {
        "id": "MXwd-EEQrOxT"
      }
    },
    {
      "cell_type": "code",
      "source": [
        "A = [5,56,23,14,78,54]\n",
        "\n",
        "A[::-1]"
      ],
      "metadata": {
        "colab": {
          "base_uri": "https://localhost:8080/"
        },
        "id": "CjZPP5JOquGj",
        "outputId": "1169b2f2-33a5-4eb3-e862-272bd63b2286"
      },
      "execution_count": 21,
      "outputs": [
        {
          "output_type": "execute_result",
          "data": {
            "text/plain": [
              "[54, 78, 14, 23, 56, 5]"
            ]
          },
          "metadata": {},
          "execution_count": 21
        }
      ]
    },
    {
      "cell_type": "code",
      "source": [
        "A = [5,56,23,14,78,54]\n",
        "\n",
        "A.sort(reverse=True)\n",
        "\n",
        "A"
      ],
      "metadata": {
        "colab": {
          "base_uri": "https://localhost:8080/"
        },
        "id": "T_-nXe9Frgb8",
        "outputId": "33db6c51-f46b-451f-8fa9-0d9c3c599ba8"
      },
      "execution_count": 23,
      "outputs": [
        {
          "output_type": "execute_result",
          "data": {
            "text/plain": [
              "[78, 56, 54, 23, 14, 5]"
            ]
          },
          "metadata": {},
          "execution_count": 23
        }
      ]
    },
    {
      "cell_type": "markdown",
      "source": [
        "###Direct Reverse Method\n",
        "###reverse()"
      ],
      "metadata": {
        "id": "NL-H0sB4sczk"
      }
    },
    {
      "cell_type": "code",
      "source": [
        "A = [5, 14, 23, 54, 56, 78]\n",
        "\n",
        "A.reverse()\n",
        "\n",
        "A"
      ],
      "metadata": {
        "colab": {
          "base_uri": "https://localhost:8080/"
        },
        "id": "GYt8DRUzsKH0",
        "outputId": "6f492652-aa27-47c4-a11c-ca2e5ca4c062"
      },
      "execution_count": 25,
      "outputs": [
        {
          "output_type": "execute_result",
          "data": {
            "text/plain": [
              "[78, 56, 54, 23, 14, 5]"
            ]
          },
          "metadata": {},
          "execution_count": 25
        }
      ]
    },
    {
      "cell_type": "code",
      "source": [],
      "metadata": {
        "id": "RxPAp3B6so5T"
      },
      "execution_count": null,
      "outputs": []
    }
  ]
}